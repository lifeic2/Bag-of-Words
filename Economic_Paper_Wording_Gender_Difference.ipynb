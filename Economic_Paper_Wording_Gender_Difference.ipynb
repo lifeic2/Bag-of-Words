{
  "nbformat": 4,
  "nbformat_minor": 0,
  "metadata": {
    "colab": {
      "name": "Economic_Paper_Wording_Gender_Difference.ipynb",
      "version": "0.3.2",
      "provenance": [],
      "collapsed_sections": []
    },
    "kernelspec": {
      "name": "python3",
      "display_name": "Python 3"
    }
  },
  "cells": [
    {
      "cell_type": "code",
      "metadata": {
        "id": "ZwQLyWLbmJLZ",
        "colab_type": "code",
        "colab": {
          "base_uri": "https://localhost:8080/",
          "height": 105
        },
        "outputId": "e273fb9f-4df9-47a1-8a4f-38e77a78f597"
      },
      "source": [
        "import numpy as np\n",
        "import re\n",
        "import string\n",
        "import nltk\n",
        "import string\n",
        "from nltk.probability import FreqDist\n",
        "from nltk.tokenize import word_tokenize\n",
        "from nltk.tokenize import RegexpTokenizer\n",
        "from sklearn.feature_extraction.text import CountVectorizer\n",
        "from sklearn.neighbors import NearestNeighbors\n",
        "import sklearn.metrics.pairwise as smp\n",
        "from sklearn.model_selection import train_test_split\n",
        "from sklearn.linear_model import LogisticRegression\n",
        "from sklearn import metrics\n",
        "nltk.download('stopwords')\n",
        "from nltk.corpus import stopwords\n",
        "import nltk\n",
        "from nltk.corpus import stopwords\n",
        "from timeit import default_timer as timer\n",
        "from datetime import timedelta\n",
        "from imblearn.over_sampling import RandomOverSampler\n",
        "from imblearn.under_sampling import RandomUnderSampler"
      ],
      "execution_count": 2,
      "outputs": [
        {
          "output_type": "stream",
          "text": [
            "[nltk_data] Downloading package stopwords to /root/nltk_data...\n",
            "[nltk_data]   Unzipping corpora/stopwords.zip.\n"
          ],
          "name": "stdout"
        },
        {
          "output_type": "stream",
          "text": [
            "/usr/local/lib/python3.6/dist-packages/sklearn/externals/six.py:31: DeprecationWarning: The module is deprecated in version 0.21 and will be removed in version 0.23 since we've dropped support for Python 2.7. Please rely on the official version of six (https://pypi.org/project/six/).\n",
            "  \"(https://pypi.org/project/six/).\", DeprecationWarning)\n"
          ],
          "name": "stderr"
        }
      ]
    },
    {
      "cell_type": "code",
      "metadata": {
        "id": "sF_zhOIkmLVv",
        "colab_type": "code",
        "colab": {}
      },
      "source": [
        "from google.colab import drive\n",
        "drive.mount('/content/drive')\n",
        "import pandas as pd"
      ],
      "execution_count": 0,
      "outputs": []
    },
    {
      "cell_type": "code",
      "metadata": {
        "id": "6xnHkbFU1FW7",
        "colab_type": "code",
        "colab": {}
      },
      "source": [
        "# Dataset is now stored in a Pandas Dataframe\n",
        "path = \"/content/drive/My Drive/data/author.csv\"\n",
        "df_author = pd.read_csv(path)\n",
        "df_author.columns = ['unnamed','id','title','authors','authors_id','issued_time','nber_programs','Abstract','author1_id','coauthor_id','unnamed_10','author1-gender','author1_lname','author1_fname','co-number','co_lname','co-gender','co-fname']"
      ],
      "execution_count": 0,
      "outputs": []
    },
    {
      "cell_type": "code",
      "metadata": {
        "id": "wMnVxxXs1JmB",
        "colab_type": "code",
        "colab": {}
      },
      "source": [
        "df_men = df_author.loc[(df_author['author1-gender']== 0)]\n",
        "df_women = df_author.loc[(df_author['author1-gender']== 1)]\n",
        "# df_men = df_author.loc[(df_author['author1-gender']== 0) & (df_author['co-number'] == 2) & (df_author['co-gender'] == 0)]\n",
        "# df_women = df_author.loc[(df_author['author1-gender']== 1) & (df_author['co-number'] == 2) & (df_author['co-gender'] == 1)]\n",
        "# df_men = df_author.loc[(df_author['author1-gender']== 0) & (df_author['co-Number'] == 2) & (df_author['co-gender'] == 0)]\n",
        "# df_women = df_author.loc[(df_author['author1-gender']== 1)]\n",
        "df_men.reset_index(level=0, inplace=True)\n",
        "df_women.reset_index(level=0, inplace=True)"
      ],
      "execution_count": 0,
      "outputs": []
    },
    {
      "cell_type": "code",
      "metadata": {
        "id": "BwGkHHKH5UqB",
        "colab_type": "code",
        "outputId": "63e72b7e-65cc-4b7e-c2e4-61f4307fb0ba",
        "colab": {
          "base_uri": "https://localhost:8080/",
          "height": 34
        }
      },
      "source": [
        "len(df_men)"
      ],
      "execution_count": 218,
      "outputs": [
        {
          "output_type": "execute_result",
          "data": {
            "text/plain": [
              "24918"
            ]
          },
          "metadata": {
            "tags": []
          },
          "execution_count": 218
        }
      ]
    },
    {
      "cell_type": "markdown",
      "metadata": {
        "id": "DslRaak_1NGD",
        "colab_type": "text"
      },
      "source": [
        "###Helper functions for analyze the data"
      ]
    },
    {
      "cell_type": "code",
      "metadata": {
        "id": "glzKSFjP1Sjl",
        "colab_type": "code",
        "colab": {}
      },
      "source": [
        "# clean the words by eliminate the numbers, the outputs are in lower cases\n",
        "def clean_words(sentence):\n",
        "    words = sentence.lower().split()  \n",
        "    result = [re.sub(\"[^a-zA-Z]\",\"\", word) for word in words]\n",
        "    return result"
      ],
      "execution_count": 0,
      "outputs": []
    },
    {
      "cell_type": "code",
      "metadata": {
        "id": "ljbuQGp03u1M",
        "colab_type": "code",
        "colab": {}
      },
      "source": [
        "#function for data display\n",
        "from itertools import product\n",
        "import matplotlib.pyplot as plt\n",
        "def plot_confusion_matrix(cm, classes, normalize=False, title='Confusion matrix', cmap=plt.cm.Blues):\n",
        "  if normalize:\n",
        "    cm = cm.astype('float') / cm.sum(axis=1)[:, np.newaxis]\n",
        "    print(\"Normalized confusion matrix\")\n",
        "  else:\n",
        "    print('Confusion matrix, without normalization')\n",
        "    print(cm)\n",
        "    plt.imshow(cm, interpolation='nearest', cmap=cmap)\n",
        "    plt.title(title)\n",
        "    plt.colorbar()\n",
        "    tick_marks = np.arange(len(classes))\n",
        "    plt.xticks(tick_marks, classes, rotation=45)\n",
        "    plt.yticks(tick_marks, classes)\n",
        "    fmt = '.2f' if normalize else 'd'\n",
        "    thresh = cm.max() / 2.\n",
        "    for i in range (cm.shape[0]):\n",
        "      for j in range (cm.shape[1]):\n",
        "        plt.text(j, i, format(cm[i, j], fmt), horizontalalignment=\"center\", color=\"white\" if cm[i, j] > thresh else \"black\")\n",
        "        plt.ylabel('True label')\n",
        "        plt.xlabel('Predicted label')\n",
        "        plt.tight_layout()"
      ],
      "execution_count": 0,
      "outputs": []
    },
    {
      "cell_type": "code",
      "metadata": {
        "id": "Wkn6DVJ9s1iW",
        "colab_type": "code",
        "colab": {}
      },
      "source": [
        "#words stemming\n",
        "import string\n",
        "from nltk.stem.snowball import SnowballStemmer\n",
        "from nltk.stem.wordnet import WordNetLemmatizer\n",
        "sno = SnowballStemmer('english')\n",
        "def root(words):\n",
        "  cleanedword = []\n",
        "  for w in words:\n",
        "    cleanedword.append(sno.stem(w))\n",
        "  return cleanedword "
      ],
      "execution_count": 0,
      "outputs": []
    },
    {
      "cell_type": "code",
      "metadata": {
        "id": "krv3YLeFvjTq",
        "colab_type": "code",
        "colab": {}
      },
      "source": [
        "# clean the vocabulary from all the authors and store the words by gender seprately in the list\n",
        "import operator\n",
        "abstract_male = []\n",
        "abstract_female = []\n",
        "ll = len(df_women.Abstract)\n",
        "l = len(df_men.Abstract)\n",
        "for i in range(l):\n",
        "  sentence_clean = clean_words(df_men.Abstract[i])\n",
        "  sentencem = root(sentence_clean)\n",
        "  abstract_male.extend(sentencem)\n",
        "for j in range(ll):\n",
        "  sentence_cleanf = clean_words(df_women.Abstract[j])\n",
        "  sentencef = root(sentence_cleanf)\n",
        "  abstract_female.extend(sentencef)"
      ],
      "execution_count": 0,
      "outputs": []
    },
    {
      "cell_type": "code",
      "metadata": {
        "id": "2X5-1BDz3aXR",
        "colab_type": "code",
        "colab": {}
      },
      "source": [
        "#matrix of words\n",
        "def bag_of_words(sentence, words):\n",
        "    sentence_words = clean_words(sentence)\n",
        "    # frequency word count\n",
        "    bag = np.zeros(len(words))\n",
        "    for sw in sentence_words:\n",
        "        for i,word in enumerate(words):\n",
        "            if word == sw: \n",
        "                bag[i] += 1\n",
        "                \n",
        "    return np.array(bag)"
      ],
      "execution_count": 0,
      "outputs": []
    },
    {
      "cell_type": "markdown",
      "metadata": {
        "id": "dnZOni3N39i7",
        "colab_type": "text"
      },
      "source": [
        "###Clean the wording for both male and female and save them in csv for analyzing in R"
      ]
    },
    {
      "cell_type": "code",
      "metadata": {
        "id": "8Z8JsG9e2fAE",
        "colab_type": "code",
        "colab": {}
      },
      "source": [
        "main_dic = []\n",
        "for word in abstract_female:\n",
        "  main_dic.append(word)\n",
        "for word in abstract_male:\n",
        "  main_dic.append(word)\n",
        "  \n",
        "main_dic = list(set(main_dic))"
      ],
      "execution_count": 0,
      "outputs": []
    },
    {
      "cell_type": "code",
      "metadata": {
        "id": "XsdsA9Ns4c3g",
        "colab_type": "code",
        "colab": {}
      },
      "source": [
        "word_count_f = {x:0 for x in main_dic}\n",
        "word_count_m = {x:0 for x in main_dic}"
      ],
      "execution_count": 0,
      "outputs": []
    },
    {
      "cell_type": "code",
      "metadata": {
        "id": "Zs6bSm-U1c3y",
        "colab_type": "code",
        "colab": {}
      },
      "source": [
        "# count the number of words from female\n",
        "for word in abstract_female:\n",
        "  word_count_f[word] += 1  \n",
        "for word in abstract_male:\n",
        "  word_count_m[word] += 1"
      ],
      "execution_count": 0,
      "outputs": []
    },
    {
      "cell_type": "code",
      "metadata": {
        "id": "5CtjOkPA5W40",
        "colab_type": "code",
        "colab": {}
      },
      "source": [
        "word_count_combined = { word : (word_count_f[word] + word_count_m[word]) for word in word_count_f }"
      ],
      "execution_count": 0,
      "outputs": []
    },
    {
      "cell_type": "code",
      "metadata": {
        "id": "npaes9-v-wst",
        "colab_type": "code",
        "colab": {}
      },
      "source": [
        "low_freq_word = [word for word in word_count_combined if word_count_m[word] <= 5]"
      ],
      "execution_count": 0,
      "outputs": []
    },
    {
      "cell_type": "code",
      "metadata": {
        "id": "fx4xavrP_pvz",
        "colab_type": "code",
        "outputId": "57ca82a1-9553-4c6e-d76a-dcd3d75c979c",
        "colab": {
          "base_uri": "https://localhost:8080/",
          "height": 34
        }
      },
      "source": [
        "len(word_count_combined) - len(low_freq_word)"
      ],
      "execution_count": 51,
      "outputs": [
        {
          "output_type": "execute_result",
          "data": {
            "text/plain": [
              "9361"
            ]
          },
          "metadata": {
            "tags": []
          },
          "execution_count": 51
        }
      ]
    },
    {
      "cell_type": "code",
      "metadata": {
        "colab_type": "code",
        "id": "_59Q1vcb_bRh",
        "colab": {}
      },
      "source": [
        "word_count_f_no_lowfreq = { word : word_count_f[word] for word in word_count_f if word not in low_freq_word}\n",
        "word_count_m_no_lowfreq = { word : word_count_m[word] for word in word_count_m if word not in low_freq_word}"
      ],
      "execution_count": 0,
      "outputs": []
    },
    {
      "cell_type": "code",
      "metadata": {
        "id": "X5ygVxK8AD_8",
        "colab_type": "code",
        "colab": {}
      },
      "source": [
        "word_count_f_no_lowfreq_list = [ [k,v] for k, v in word_count_f_no_lowfreq.items() ]\n",
        "word_count_m_no_lowfreq_list = [ [k,v] for k, v in word_count_m_no_lowfreq.items() ]"
      ],
      "execution_count": 0,
      "outputs": []
    },
    {
      "cell_type": "code",
      "metadata": {
        "id": "dWhyTnJXAXCO",
        "colab_type": "code",
        "colab": {}
      },
      "source": [
        "df_female = pd.DataFrame(word_count_f_no_lowfreq_list, columns = ['Word' , 'FemaleFrequency'])\n",
        "df_male = pd.DataFrame(word_count_m_no_lowfreq_list, columns = ['Word' , 'MaleFrequency'])"
      ],
      "execution_count": 0,
      "outputs": []
    },
    {
      "cell_type": "code",
      "metadata": {
        "id": "6WHy2ChNAnSY",
        "colab_type": "code",
        "colab": {}
      },
      "source": [
        "df_male.head()"
      ],
      "execution_count": 0,
      "outputs": []
    },
    {
      "cell_type": "code",
      "metadata": {
        "id": "ZA5WXo1EAkwH",
        "colab_type": "code",
        "colab": {}
      },
      "source": [
        "df_female.head()"
      ],
      "execution_count": 0,
      "outputs": []
    },
    {
      "cell_type": "code",
      "metadata": {
        "id": "JBScxteBA-xO",
        "colab_type": "code",
        "colab": {}
      },
      "source": [
        "df_combined = pd.merge(df_female, df_male, on='Word')"
      ],
      "execution_count": 0,
      "outputs": []
    },
    {
      "cell_type": "code",
      "metadata": {
        "id": "xstsHChTXQHJ",
        "colab_type": "code",
        "colab": {}
      },
      "source": [
        "df_combined"
      ],
      "execution_count": 0,
      "outputs": []
    },
    {
      "cell_type": "markdown",
      "metadata": {
        "id": "e8FwTIsU1l1K",
        "colab_type": "text"
      },
      "source": [
        "###Use Chi-square test to eliminat the words\n"
      ]
    },
    {
      "cell_type": "code",
      "metadata": {
        "id": "vgMx6zijs4mj",
        "colab_type": "code",
        "colab": {}
      },
      "source": [
        "path = \"/content/drive/My Drive/data/chi-square-stat.csv\"\n",
        "df_chi = pd.read_csv(path)"
      ],
      "execution_count": 0,
      "outputs": []
    },
    {
      "cell_type": "code",
      "metadata": {
        "id": "UdGB5hzjhpJV",
        "colab_type": "code",
        "colab": {
          "base_uri": "https://localhost:8080/",
          "height": 34
        },
        "outputId": "272bff54-d1f1-44dd-9af8-7d342e23d03c"
      },
      "source": [
        "len(df_chi)"
      ],
      "execution_count": 149,
      "outputs": [
        {
          "output_type": "execute_result",
          "data": {
            "text/plain": [
              "9360"
            ]
          },
          "metadata": {
            "tags": []
          },
          "execution_count": 149
        }
      ]
    },
    {
      "cell_type": "code",
      "metadata": {
        "colab_type": "code",
        "id": "beAqW0erd3t4",
        "colab": {}
      },
      "source": [
        "df_chi_f = df_chi[\"FemaleFrequency\"].tolist()\n",
        "df_chi_m = df_chi[\"MaleFrequency\"].tolist()\n",
        "df_word = df_combined[\"Word\"].tolist()[1:]"
      ],
      "execution_count": 0,
      "outputs": []
    },
    {
      "cell_type": "code",
      "metadata": {
        "id": "aSrsP-B3gyW1",
        "colab_type": "code",
        "colab": {}
      },
      "source": [
        "chi_sq_list = [df_word,df_chi_f,df_chi_m]\n",
        "\n",
        "chi_sq_list = list(map(list, zip(*chi_sq_list)))\n",
        "\n"
      ],
      "execution_count": 0,
      "outputs": []
    },
    {
      "cell_type": "code",
      "metadata": {
        "id": "T6BgA0oUd9YP",
        "colab_type": "code",
        "colab": {}
      },
      "source": [
        "df_chi_square = pd.DataFrame(chi_sq_list, columns=['Words', 'chi_f', 'chi_m'])"
      ],
      "execution_count": 0,
      "outputs": []
    },
    {
      "cell_type": "code",
      "metadata": {
        "id": "u9J5-CnKhTSQ",
        "colab_type": "code",
        "colab": {}
      },
      "source": [
        "df_good = df_chi_square.loc[(df_chi_square['chi_f']>= 0.01) | (df_chi_square['chi_m']>= 0.01)]"
      ],
      "execution_count": 0,
      "outputs": []
    },
    {
      "cell_type": "code",
      "metadata": {
        "id": "c3ByWqyvhW8I",
        "colab_type": "code",
        "colab": {}
      },
      "source": [
        "goodwords = df_good[\"Words\"].tolist()\n",
        "goodwords"
      ],
      "execution_count": 0,
      "outputs": []
    },
    {
      "cell_type": "markdown",
      "metadata": {
        "id": "MZGxR1Wnnrch",
        "colab_type": "text"
      },
      "source": [
        "###Analysis the data using bag of words"
      ]
    },
    {
      "cell_type": "code",
      "metadata": {
        "id": "54501pTenud_",
        "colab_type": "code",
        "colab": {}
      },
      "source": [
        "import random\n",
        "bow_random = []\n",
        "for i in range(l):\n",
        "  bow_random.append(bag_of_words(df_men.Abstract[i], goodwords))"
      ],
      "execution_count": 0,
      "outputs": []
    },
    {
      "cell_type": "code",
      "metadata": {
        "id": "aVwMrbx0n1Ll",
        "colab_type": "code",
        "colab": {}
      },
      "source": [
        "from random import shuffle\n",
        "shuffle(bow_random)\n",
        "bow_random_selected = random.sample(bow_random,5669)"
      ],
      "execution_count": 0,
      "outputs": []
    },
    {
      "cell_type": "code",
      "metadata": {
        "id": "DcIxljmmre7p",
        "colab_type": "code",
        "colab": {}
      },
      "source": [
        "Y = []\n",
        "for i in range(5669):\n",
        "  Y.append(1)\n",
        "for j in range(5669):\n",
        "  Y.append(0)"
      ],
      "execution_count": 0,
      "outputs": []
    },
    {
      "cell_type": "code",
      "metadata": {
        "id": "4-dMYmtcoEXQ",
        "colab_type": "code",
        "colab": {}
      },
      "source": [
        "for i in range(ll):\n",
        "  bow_random_selected.append(bag_of_words(df_women.Abstract[i], goodwords))"
      ],
      "execution_count": 0,
      "outputs": []
    },
    {
      "cell_type": "code",
      "metadata": {
        "id": "8ECJx4Ylrvr-",
        "colab_type": "code",
        "colab": {}
      },
      "source": [
        "X_train, X_test, y_train, y_test = train_test_split(bow_random_selected, Y, test_size=0.1, random_state=0)"
      ],
      "execution_count": 0,
      "outputs": []
    },
    {
      "cell_type": "code",
      "metadata": {
        "id": "BaHH5mMJr0_B",
        "colab_type": "code",
        "colab": {}
      },
      "source": [
        "# instantiate the model (using the default parameters)\n",
        "logreg = LogisticRegression()\n",
        "\n",
        "# fit the model with data\n",
        "logreg.fit(X_train,y_train)\n",
        "\n",
        "y_pred=logreg.predict(X_test)"
      ],
      "execution_count": 0,
      "outputs": []
    },
    {
      "cell_type": "code",
      "metadata": {
        "id": "VYZx0VWIr3ba",
        "colab_type": "code",
        "colab": {
          "base_uri": "https://localhost:8080/",
          "height": 51
        },
        "outputId": "252451c6-9b77-4df3-a759-d21f5c128ae0"
      },
      "source": [
        "from sklearn import metrics\n",
        "cnf_matrix = metrics.confusion_matrix(y_test, y_pred)\n",
        "cnf_matrix"
      ],
      "execution_count": 244,
      "outputs": [
        {
          "output_type": "execute_result",
          "data": {
            "text/plain": [
              "array([[378, 204],\n",
              "       [180, 372]])"
            ]
          },
          "metadata": {
            "tags": []
          },
          "execution_count": 244
        }
      ]
    },
    {
      "cell_type": "code",
      "metadata": {
        "id": "0cuEW47fsCes",
        "colab_type": "code",
        "colab": {}
      },
      "source": [
        "# Compute confusion matrixcnf_matrix = confusion_matrix(y_test, y_pred)\n",
        "np.set_printoptions(precision=2)\n",
        "# Plot non-normalized confusion matrixplt.figure()\n",
        "plot_confusion_matrix(cnf_matrix, classes=['Negative','Positive'],\n",
        "                      title='Confusion matrix, without normalization')"
      ],
      "execution_count": 0,
      "outputs": []
    },
    {
      "cell_type": "code",
      "metadata": {
        "id": "iCjAJsDEsE8T",
        "colab_type": "code",
        "colab": {
          "base_uri": "https://localhost:8080/",
          "height": 85
        },
        "outputId": "0897e033-078a-452f-cfdc-0c0e97ee5f70"
      },
      "source": [
        "tn, fp, fn, tp = metrics.confusion_matrix(y_test, y_pred).ravel()\n",
        "print(\"True Negatives: \",tn)\n",
        "print(\"False Positives: \",fp)\n",
        "print(\"False Negatives: \",fn)\n",
        "print(\"True Positives: \",tp)"
      ],
      "execution_count": 216,
      "outputs": [
        {
          "output_type": "stream",
          "text": [
            "True Negatives:  378\n",
            "False Positives:  204\n",
            "False Negatives:  180\n",
            "True Positives:  372\n"
          ],
          "name": "stdout"
        }
      ]
    },
    {
      "cell_type": "code",
      "metadata": {
        "id": "j9bCipg4sIRA",
        "colab_type": "code",
        "colab": {
          "base_uri": "https://localhost:8080/",
          "height": 34
        },
        "outputId": "f4d926c7-875d-4148-8dfc-371c10d2b9c7"
      },
      "source": [
        "#Accuracy\n",
        "Accuracy_all = (tn+tp)*100/(tp+tn+fp+fn) \n",
        "print(\"Accuracy_all {:0.2f}%:\".format(Accuracy_all))"
      ],
      "execution_count": 217,
      "outputs": [
        {
          "output_type": "stream",
          "text": [
            "Accuracy_all 66.14%:\n"
          ],
          "name": "stdout"
        }
      ]
    },
    {
      "cell_type": "code",
      "metadata": {
        "id": "Tl-rTBLTtLvV",
        "colab_type": "code",
        "colab": {}
      },
      "source": [
        "y_pred=logreg.predict()"
      ],
      "execution_count": 0,
      "outputs": []
    },
    {
      "cell_type": "markdown",
      "metadata": {
        "id": "Wi_3D3Tct3sj",
        "colab_type": "text"
      },
      "source": [
        "###Predit all the data"
      ]
    },
    {
      "cell_type": "code",
      "metadata": {
        "id": "85ywqq1Mt77c",
        "colab_type": "code",
        "colab": {}
      },
      "source": [
        "Y1 = []\n",
        "for i in range(24918):\n",
        "  Y1.append(1)\n",
        "for j in range(5669):\n",
        "  Y1.append(0)"
      ],
      "execution_count": 0,
      "outputs": []
    },
    {
      "cell_type": "code",
      "metadata": {
        "id": "J-ronYIHwt4e",
        "colab_type": "code",
        "colab": {}
      },
      "source": [
        "for i in range(ll):\n",
        "  bow_random.append(bag_of_words(df_women.Abstract[i], goodwords))"
      ],
      "execution_count": 0,
      "outputs": []
    },
    {
      "cell_type": "code",
      "metadata": {
        "id": "ttlkwkP9xNsw",
        "colab_type": "code",
        "colab": {}
      },
      "source": [
        "# instantiate the model (using the default parameters)\n",
        "\n",
        "y_pred=logreg.predict(bow_random)"
      ],
      "execution_count": 0,
      "outputs": []
    },
    {
      "cell_type": "code",
      "metadata": {
        "id": "9MfB8SMcxTGk",
        "colab_type": "code",
        "colab": {
          "base_uri": "https://localhost:8080/",
          "height": 51
        },
        "outputId": "438288b0-b753-462c-fe02-835e53a30b7b"
      },
      "source": [
        "from sklearn import metrics\n",
        "cnf_matrix = metrics.confusion_matrix(Y1, y_pred)\n",
        "cnf_matrix"
      ],
      "execution_count": 247,
      "outputs": [
        {
          "output_type": "execute_result",
          "data": {
            "text/plain": [
              "array([[ 3821,  1848],\n",
              "       [ 7745, 17173]])"
            ]
          },
          "metadata": {
            "tags": []
          },
          "execution_count": 247
        }
      ]
    },
    {
      "cell_type": "code",
      "metadata": {
        "id": "511t3y7mxj1c",
        "colab_type": "code",
        "colab": {
          "base_uri": "https://localhost:8080/",
          "height": 348
        },
        "outputId": "c421d49a-b8de-479d-8df4-480e02fc7ee7"
      },
      "source": [
        "# Compute confusion matrixcnf_matrix = confusion_matrix(y_test, y_pred)\n",
        "np.set_printoptions(precision=2)\n",
        "# Plot non-normalized confusion matrixplt.figure()\n",
        "plot_confusion_matrix(cnf_matrix, classes=['Negative','Positive'],\n",
        "                      title='Confusion matrix, without normalization')"
      ],
      "execution_count": 248,
      "outputs": [
        {
          "output_type": "stream",
          "text": [
            "Confusion matrix, without normalization\n",
            "[[ 3821  1848]\n",
            " [ 7745 17173]]\n"
          ],
          "name": "stdout"
        },
        {
          "output_type": "display_data",
          "data": {
            "image/png": "[encoded data removed]",
            "text/plain": [
              "<Figure size 432x288 with 2 Axes>"
            ]
          },
          "metadata": {
            "tags": []
          }
        }
      ]
    },
    {
      "cell_type": "code",
      "metadata": {
        "id": "AApOBgD_ynfa",
        "colab_type": "code",
        "colab": {
          "base_uri": "https://localhost:8080/",
          "height": 85
        },
        "outputId": "21ee38b2-23d1-4505-bf7e-d6586a3b74e2"
      },
      "source": [
        "tn, fp, fn, tp = metrics.confusion_matrix(Y1, y_pred).ravel()\n",
        "print(\"True Negatives: \",tn)\n",
        "print(\"False Positives: \",fp)\n",
        "print(\"False Negatives: \",fn)\n",
        "print(\"True Positives: \",tp)"
      ],
      "execution_count": 253,
      "outputs": [
        {
          "output_type": "stream",
          "text": [
            "True Negatives:  3821\n",
            "False Positives:  1848\n",
            "False Negatives:  7745\n",
            "True Positives:  17173\n"
          ],
          "name": "stdout"
        }
      ]
    },
    {
      "cell_type": "code",
      "metadata": {
        "id": "XhAFdA_Syqx6",
        "colab_type": "code",
        "colab": {
          "base_uri": "https://localhost:8080/",
          "height": 34
        },
        "outputId": "093f9d81-b63e-47fc-bd07-9df54a77e96a"
      },
      "source": [
        "#Precision\n",
        "#Precision talks about how precise/accurate your model is out of those predicted positive, how many of them are actual positive.\n",
        "Accuracy_all = (tp)*100/(tp+fp) \n",
        "print(\"Precision {:0.2f}%:\".format(Accuracy_all))"
      ],
      "execution_count": 260,
      "outputs": [
        {
          "output_type": "stream",
          "text": [
            "Precision 90.28%:\n"
          ],
          "name": "stdout"
        }
      ]
    },
    {
      "cell_type": "code",
      "metadata": {
        "id": "T1nY_gfJ0-xT",
        "colab_type": "code",
        "colab": {
          "base_uri": "https://localhost:8080/",
          "height": 34
        },
        "outputId": "67d35b0f-aff1-43fe-8fdb-495258ae25fc"
      },
      "source": [
        "#Recall\n",
        "#Recall actually calculates how many of the Actual Positives our model capture through labeling it as Positive (True Positive).\n",
        "Accuracy = (tp)*100/(tp+fn) \n",
        "print(\"Recall {:0.2f}%:\".format(Accuracy))"
      ],
      "execution_count": 258,
      "outputs": [
        {
          "output_type": "stream",
          "text": [
            "Recall 68.92%:\n"
          ],
          "name": "stdout"
        }
      ]
    },
    {
      "cell_type": "code",
      "metadata": {
        "id": "Cbqteg5X1ZC0",
        "colab_type": "code",
        "colab": {
          "base_uri": "https://localhost:8080/",
          "height": 34
        },
        "outputId": "adacdb24-fd91-48ef-cbac-d7fc6ba41d42"
      },
      "source": [
        "Accuracyy = (Accuracy_all*Accuracy)/(Accuracy_all+Accuracy)\n",
        "print(\"F1 {:0.2f}%:\".format(Accuracyy))"
      ],
      "execution_count": 261,
      "outputs": [
        {
          "output_type": "stream",
          "text": [
            "F1 39.08%:\n"
          ],
          "name": "stdout"
        }
      ]
    }
  ]
}